{
 "cells": [
  {
   "cell_type": "code",
   "execution_count": null,
   "metadata": {
    "id": "3a09a7a3"
   },
   "outputs": [],
   "source": [
    "import numpy as np\n",
    "import math\n",
    "from scipy.integrate import odeint\n",
    "import matplotlib.pyplot as plt\n",
    "from tqdm import tqdm"
   ]
  },
  {
   "cell_type": "code",
   "execution_count": null,
   "metadata": {
    "id": "d45e797c"
   },
   "outputs": [],
   "source": [
    "# constants\n",
    "Tmax = 5\n",
    "c = 0.1\n",
    "sigma_0 = 0.01\n",
    "torque = 1\n",
    "torque_c = 0.1\n",
    "m = 1\n",
    "l = 1\n",
    "g_earth = 9.8\n",
    "mu = 0.01\n",
    "timestamp = 500\n",
    "delta_t = 20 / timestamp\n",
    "num_trials = 100"
   ]
  },
  {
   "cell_type": "code",
   "execution_count": null,
   "metadata": {
    "id": "c0b421df"
   },
   "outputs": [],
   "source": [
    "def g(x): # input x doesn't mean state, just a random input\n",
    "    return 2/np.pi * (np.arctan(np.pi * x / 2))"
   ]
  },
  {
   "cell_type": "code",
   "execution_count": null,
   "metadata": {},
   "outputs": [],
   "source": [
    "def g_inv(x): # input x doesn't mean state, just a random input\n",
    "    return (2 * math.tan(np.pi * x / 2)) / np.pi"
   ]
  },
  {
   "cell_type": "code",
   "execution_count": null,
   "metadata": {},
   "outputs": [],
   "source": [
    "def G(x): # input x doesn't mean state, just a random input\n",
    "    return c * (-4 * np.log(math.cos(np.pi * (x/Tmax) / 2)) / (np.pi ** 2))"
   ]
  },
  {
   "cell_type": "code",
   "execution_count": null,
   "metadata": {},
   "outputs": [],
   "source": [
    "def f(x, u):\n",
    "    return np.array([x[1], -mu * x[1] + g_earth * np.sin(x[0]) + u])"
   ]
  },
  {
   "cell_type": "code",
   "execution_count": null,
   "metadata": {
    "id": "74b653d9"
   },
   "outputs": [],
   "source": [
    "def reward(x, T):\n",
    "    return np.cos(x[0]) - G(T)"
   ]
  },
  {
   "cell_type": "code",
   "execution_count": null,
   "metadata": {},
   "outputs": [],
   "source": [
    "def gaussian(x, num_gaussians=12):\n",
    "    x1_centers = np.linspace(-np.pi, np.pi, num_gaussians)\n",
    "    x2_centers = np.linspace(-10, 10, num_gaussians)\n",
    "    sigma = 0.1\n",
    "\n",
    "    first = (x[0] - x1_centers) ** 2\n",
    "    second = (x[1] - x2_centers) ** 2\n",
    "    norm = (first[:, np.newaxis] + second).flatten()\n",
    "    basis_functions = np.exp(-norm / (2 * sigma ** 2))\n",
    "\n",
    "    return basis_functions\n",
    "\n",
    "# basis_functions = gaussian(init_data[0])"
   ]
  },
  {
   "cell_type": "code",
   "execution_count": null,
   "metadata": {},
   "outputs": [],
   "source": [
    "def grad_gaussian(x, num_gaussians=12):\n",
    "    x1_centers = np.linspace(-np.pi, np.pi, num_gaussians)\n",
    "    x2_centers = np.linspace(-10, 10, num_gaussians)\n",
    "    sigma = 0.1\n",
    "    coef1 = np.zeros(num_gaussians ** 2)\n",
    "    coef2 = np.zeros(num_gaussians ** 2)\n",
    "    \n",
    "    for i in range(num_gaussians):\n",
    "        coef1[12 * i:(12 * i + 11)] = -(x[0] - x1_centers[i]) / (sigma ** 2)\n",
    "        coef2[12 * i:(12 * i + 11)] = -(x[1] - x2_centers[i]) / (sigma ** 2)\n",
    "        \n",
    "    return coef1, coef2"
   ]
  },
  {
   "cell_type": "code",
   "execution_count": null,
   "metadata": {},
   "outputs": [],
   "source": [
    "def calc_error(x, prev_x, weight, T):\n",
    "    if prev_x is not None:\n",
    "        pred = np.dot(weight, gaussian(x))\n",
    "        prev_pred = np.dot(weight, gaussian(prev_x))\n",
    "        return reward(x, T) + 0.4/delta_t * ((1 - delta_t/0.4) * pred - prev_pred)\n",
    "    else:\n",
    "        return 0"
   ]
  },
  {
   "cell_type": "code",
   "execution_count": null,
   "metadata": {
    "id": "8846f075"
   },
   "outputs": [],
   "source": [
    "# simulate the dynamics: m*l*theta_double_dot = -mu*theta_dot + m*g*l*sin(theta) + T\n",
    "def pendulum_dynamics(y, t, T):\n",
    "    theta, theta_dot = y\n",
    "    theta_double_dot = -0.01 * theta_dot + 9.8 * np.sin(theta) + T\n",
    "    return [theta_dot, theta_double_dot]\n",
    "\n",
    "# generate 500 data with 500 initial T\n",
    "def gen_data(control):\n",
    "    time = np.linspace(0, 20, timestamp)\n",
    "\n",
    "    # Initial conditions\n",
    "    theta_0 = 0 # np.random.uniform(0, 2 * np.pi)\n",
    "    theta_dot_0 = 0\n",
    "    theta = np.zeros(timestamp)\n",
    "    theta_dot = np.zeros(timestamp)\n",
    "\n",
    "    for i, t in enumerate(time):\n",
    "        T = control[i]\n",
    "        y = odeint(pendulum_dynamics, [theta_0, theta_dot_0], [0, delta_t], args=(T,))\n",
    "        # Extract the theta value from the solution\n",
    "        theta[i] = y[-1, 0] % (2 * np.pi)\n",
    "        theta_dot[i] = y[-1, 1]\n",
    "        # Update the initial conditions for the next time step\n",
    "        theta_0 = y[-1, 0]\n",
    "        theta_dot_0 = y[-1, 1]\n",
    "    \n",
    "    data = np.column_stack((theta, theta_dot))\n",
    "    return data"
   ]
  },
  {
   "cell_type": "code",
   "execution_count": null,
   "metadata": {
    "id": "Cbz25-ea0Zu-"
   },
   "outputs": [],
   "source": [
    "# init policy\n",
    "T0 = np.random.uniform(0, Tmax, timestamp)\n",
    "init_data = gen_data(T0)\n",
    "init_theta = [x[0]/np.pi for x in init_data]\n",
    "plt.plot(init_theta);"
   ]
  },
  {
   "cell_type": "markdown",
   "metadata": {},
   "source": [
    "## 5.0 No Optimization"
   ]
  },
  {
   "cell_type": "raw",
   "metadata": {},
   "source": [
    "T = T0\n",
    "t_ups = np.array([])\n",
    "\n",
    "for i in tqdm(range(100)):\n",
    "    data = gen_data(T)\n",
    "    theta = [x[0] for x in data]\n",
    "    t_up = np.count_nonzero((np.array(theta) < np.pi / 2) | (np.array(theta) > 1.5 * np.pi))\n",
    "    t_ups = np.append(t_ups, t_up * 20 / timestamp)\n",
    "    T = np.random.uniform(0, Tmax, timestamp)"
   ]
  },
  {
   "cell_type": "raw",
   "metadata": {},
   "source": [
    "plt.plot(t_ups);"
   ]
  },
  {
   "cell_type": "markdown",
   "metadata": {},
   "source": [
    "____________________________________________________________________________________________"
   ]
  },
  {
   "cell_type": "raw",
   "metadata": {
    "id": "9eab2ce1"
   },
   "source": [
    "def sigmoid(x):\n",
    "    return 1 / (1 + np.exp(-x))"
   ]
  },
  {
   "cell_type": "code",
   "execution_count": null,
   "metadata": {
    "id": "bc7174c8"
   },
   "outputs": [],
   "source": [
    "tol = 1e-5\n",
    "alpha = 0.01\n",
    "\n",
    "def pred_weight_learning(data, weight, T):\n",
    "    prev_state = None\n",
    "    final_weight = None\n",
    "    t_up = 0\n",
    "    preds = []\n",
    "    errors = []\n",
    "\n",
    "    for i in range(timestamp):\n",
    "        state = data[i]\n",
    "        pred = np.dot(weight, gaussian(state))\n",
    "        preds.append(pred)\n",
    "        \n",
    "        error = calc_error(state, prev_state, weight, T[i])\n",
    "        err_sum = error_sum(data, weight, T)\n",
    "        errors.append(err_sum)\n",
    "        \n",
    "        if prev_state is not None:\n",
    "            delta_v = alpha * error * gaussian(prev_state)\n",
    "#             delta_v = -alpha * (reward(state, T[i]) - pred + 0.4 * np.dot(weight, np.matmul(f(state, T[i]), grad_gaussian(state))))\\\n",
    "#                         * (-gaussian(state) + 0.4 * np.matmul(f(state, T[i]), grad_gaussian(state)))\n",
    "            weight += delta_v\n",
    "        \n",
    "        prev_state = state\n",
    "        \n",
    "        if (prev_state[0] < np.pi / 2) or (prev_state[0] > 1.5 * np.pi):\n",
    "            t_up = t_up + 1\n",
    "            \n",
    "        if i == timestamp - 1:\n",
    "            final_weight = weight\n",
    "            \n",
    "    return preds, t_up, final_weight, errors"
   ]
  },
  {
   "cell_type": "code",
   "execution_count": null,
   "metadata": {},
   "outputs": [],
   "source": [
    "def error_sum(data, weight, T):\n",
    "    err_sum = 0\n",
    "    prev_state = None\n",
    "    for i in range(timestamp):\n",
    "        state = data[i]\n",
    "        error = calc_error(state, prev_state, weight, T[i])\n",
    "        prev_state = state\n",
    "        err_sum += abs(error)\n",
    "    return err_sum"
   ]
  },
  {
   "cell_type": "markdown",
   "metadata": {
    "id": "719270ac"
   },
   "source": [
    "## 5.1 Optimal Control"
   ]
  },
  {
   "cell_type": "code",
   "execution_count": null,
   "metadata": {
    "id": "YolTc2Br0PJ3"
   },
   "outputs": [],
   "source": [
    "def prediction_derivative(weights, x, sigma=0.1):\n",
    "    gaussian_values = gaussian(x)\n",
    "    grad_gaussian_values = grad_gaussian(x)\n",
    "    grad_coef_x1, grad_coef_x2 = grad_gaussian_values[0], grad_gaussian_values[1]\n",
    "    derivatives_x1 = np.dot(weights * grad_coef_x1, gaussian_values)\n",
    "    derivatives_x2 = np.dot(weights * grad_coef_x2, gaussian_values)\n",
    "    return derivatives_x1, derivatives_x2"
   ]
  },
  {
   "cell_type": "code",
   "execution_count": null,
   "metadata": {
    "id": "7ccb21df"
   },
   "outputs": [],
   "source": [
    "def optimal_control_learning(weights, x):\n",
    "    b = np.array([0.0, 1.0])\n",
    "    noise = np.random.normal(0, 1, 1)[0]\n",
    "    pred = np.dot(weights, gaussian(x))\n",
    "    g_val = g(Tmax / c * torque * np.dot(b, prediction_derivative(weights, x)) + sigma_0 * np.exp(-pred) * noise)\n",
    "    return Tmax * g_val"
   ]
  },
  {
   "cell_type": "markdown",
   "metadata": {
    "id": "00fadb4d"
   },
   "source": [
    "____________________________________________________________________________________________"
   ]
  },
  {
   "cell_type": "code",
   "execution_count": null,
   "metadata": {
    "colab": {
     "base_uri": "https://localhost:8080/"
    },
    "id": "_tBuEzVm9Kkv",
    "outputId": "eacf19c4-2265-478c-c574-26c69a98d548"
   },
   "outputs": [],
   "source": [
    "T = T0\n",
    "t_ups = np.array([])\n",
    "errs = [0] * 100\n",
    "init_weight = np.ones(12 ** 2)\n",
    "w = init_weight\n",
    "\n",
    "for i in tqdm(range(50)):\n",
    "    data = gen_data(T)\n",
    "    learning = pred_weight_learning(data, w, T)\n",
    "    \n",
    "    t_up = learning[1]\n",
    "    final_weight = learning[2]\n",
    "    err_sum = error_sum(data, final_weight, T)\n",
    "    errs[i] = err_sum / timestamp\n",
    "\n",
    "    t_ups = np.append(t_ups, t_up * 20 / timestamp)\n",
    "    optimal_control = np.array([optimal_control_learning(final_weight, data[i]) for i in range(timestamp)])\n",
    "    T = optimal_control\n",
    "    w = final_weight"
   ]
  },
  {
   "cell_type": "code",
   "execution_count": null,
   "metadata": {},
   "outputs": [],
   "source": [
    "plt.plot(errs);"
   ]
  },
  {
   "cell_type": "code",
   "execution_count": null,
   "metadata": {
    "colab": {
     "base_uri": "https://localhost:8080/",
     "height": 430
    },
    "id": "9BrFH1UX93zo",
    "outputId": "5cf54d6f-e0d4-41f5-ba53-9a3211b77985"
   },
   "outputs": [],
   "source": [
    "plt.plot(t_ups);"
   ]
  },
  {
   "cell_type": "markdown",
   "metadata": {
    "id": "86fdd52c"
   },
   "source": [
    "## 5.2 Actor-Critic"
   ]
  },
  {
   "cell_type": "code",
   "execution_count": null,
   "metadata": {
    "id": "37de00e1"
   },
   "outputs": [],
   "source": [
    "tol = 1e-5\n",
    "alpha = 0.01\n",
    "\n",
    "def critic_weight_learning(data, weight, T):\n",
    "    prev_state = None\n",
    "    preds = np.array([])\n",
    "    errors = []\n",
    "    final_weight = None\n",
    "    t_up = 0\n",
    "\n",
    "    for i in range(timestamp):\n",
    "        state = data[i]\n",
    "        pred = np.dot(weight, gaussian(state))\n",
    "        preds = np.append(preds, pred)\n",
    "\n",
    "        error = calc_error(state, prev_state, weight, T[i])\n",
    "        err_sum = error_sum(data, weight, T)\n",
    "        errors.append(err_sum)        \n",
    "\n",
    "        if prev_state is not None:\n",
    "            noise = np.random.normal(0, 1, 1)[0]\n",
    "            delta_v = alpha * error * noise * gaussian(prev_state)\n",
    "            weight += delta_v\n",
    "\n",
    "        prev_state = state\n",
    "\n",
    "        if i == timestamp - 1:\n",
    "            final_weight = weight\n",
    "            \n",
    "        if (prev_state[0] < np.pi / 2) or (prev_state[0] > 1.5 * np.pi):\n",
    "            t_up = t_up + 1\n",
    "\n",
    "    return final_weight, preds, t_up"
   ]
  },
  {
   "cell_type": "code",
   "execution_count": null,
   "metadata": {
    "id": "dd87f0f9"
   },
   "outputs": [],
   "source": [
    "def critic_control_learning(data, w):\n",
    "    opts = np.array([])\n",
    "    for i in range(timestamp):\n",
    "        noise = np.random.normal(0, 1, 1)[0]\n",
    "        g_val = g(np.dot(w, gaussian(data[i])) + sigma_0 * np.exp(-np.dot(w, gaussian(data[i]))) * noise)\n",
    "        opts = np.append(opts, Tmax * g_val)\n",
    "    return opts"
   ]
  },
  {
   "cell_type": "markdown",
   "metadata": {
    "id": "9b9edd29"
   },
   "source": [
    "____________________________________________________________________________________________"
   ]
  },
  {
   "cell_type": "code",
   "execution_count": null,
   "metadata": {
    "colab": {
     "base_uri": "https://localhost:8080/",
     "height": 380
    },
    "id": "e6a38156",
    "outputId": "4389557b-c16d-484b-d939-29b49aabe743"
   },
   "outputs": [],
   "source": [
    "T = T0\n",
    "t_ups = np.array([])\n",
    "errs = [0] * 100\n",
    "init_weight1 = np.ones(12)\n",
    "w = init_weight\n",
    "\n",
    "for i in tqdm(range(10)):\n",
    "    data = gen_data(T)\n",
    "    learning = critic_weight_learning(data, w, T)\n",
    "    t_up = learning[2]\n",
    "    t_ups = np.append(t_ups, t_up * 20 / timestamp)\n",
    "    \n",
    "    final_weight = learning[0]\n",
    "    err_sum = error_sum(data, final_weight, T)\n",
    "    errs[i] = err_sum / timestamp\n",
    "    \n",
    "    T = critic_control_learning(data, final_weight)\n",
    "    w = final_weight"
   ]
  },
  {
   "cell_type": "code",
   "execution_count": null,
   "metadata": {},
   "outputs": [],
   "source": [
    "plt.plot(errs);"
   ]
  },
  {
   "cell_type": "code",
   "execution_count": null,
   "metadata": {
    "colab": {
     "base_uri": "https://localhost:8080/",
     "height": 430
    },
    "id": "8cdf8b3d",
    "outputId": "4e07c09d-6895-4760-ee3c-e5d134f8fef0"
   },
   "outputs": [],
   "source": [
    "plt.plot(t_ups);"
   ]
  },
  {
   "cell_type": "code",
   "execution_count": null,
   "metadata": {},
   "outputs": [],
   "source": []
  }
 ],
 "metadata": {
  "colab": {
   "provenance": [],
   "toc_visible": true
  },
  "kernelspec": {
   "display_name": "Python 3",
   "language": "python",
   "name": "python3"
  },
  "language_info": {
   "codemirror_mode": {
    "name": "ipython",
    "version": 3
   },
   "file_extension": ".py",
   "mimetype": "text/x-python",
   "name": "python",
   "nbconvert_exporter": "python",
   "pygments_lexer": "ipython3",
   "version": "3.8.5"
  }
 },
 "nbformat": 4,
 "nbformat_minor": 5
}
